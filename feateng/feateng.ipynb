{
 "cells": [
  {
   "cell_type": "code",
   "execution_count": null,
   "id": "fa7320b9-43c1-4513-a023-638cff2a5c7e",
   "metadata": {},
   "outputs": [],
   "source": [
    "import kagglehub\n",
    "\n",
    "# Download latest version\n",
    "path = kagglehub.dataset_download(\"sinamhd9/concrete-comprehensive-strength\", path=\"Concrete_Data.xls\")\n",
    "\n",
    "print(\"Path to dataset files:\", path)"
   ]
  },
  {
   "cell_type": "code",
   "execution_count": null,
   "id": "0ae40d0d-5009-4108-aebf-e0b947b9bd6a",
   "metadata": {},
   "outputs": [],
   "source": [
    "import pandas as pd\n",
    "from sklearn.ensemble import RandomForestRegressor\n",
    "from sklearn.model_selection import cross_val_score\n",
    "\n",
    "df = pd.read_excel(path)\n",
    "print(df.head())\n",
    "print(\"Column names:\")\n",
    "print(df.columns)\n",
    "print(\"Overview:\")\n",
    "print(df.info())\n",
    "print(\"Basic statistics:\")\n",
    "print(df.describe())\n",
    "print(\"Missing values:\")\n",
    "print(df.isnull().sum())\n",
    "print(\"Correlation matrix:\")\n",
    "print(df.corr())\n"
   ]
  },
  {
   "cell_type": "code",
   "execution_count": null,
   "id": "7ce2214d",
   "metadata": {},
   "outputs": [],
   "source": []
  },
  {
   "cell_type": "code",
   "execution_count": 19,
   "id": "5faa8155-2e17-4d5e-8da7-2f0bcefc2870",
   "metadata": {},
   "outputs": [
    {
     "name": "stdout",
     "output_type": "stream",
     "text": [
      "MAE Baseline Score: 8.355\n"
     ]
    }
   ],
   "source": [
    "\"\"\"\n",
    "Column names:\n",
    "Index(['Cement (component 1)(kg in a m^3 mixture)',\n",
    "       'Blast Furnace Slag (component 2)(kg in a m^3 mixture)',\n",
    "       'Fly Ash (component 3)(kg in a m^3 mixture)',\n",
    "       'Water  (component 4)(kg in a m^3 mixture)',\n",
    "       'Superplasticizer (component 5)(kg in a m^3 mixture)',\n",
    "       'Coarse Aggregate  (component 6)(kg in a m^3 mixture)',\n",
    "       'Fine Aggregate (component 7)(kg in a m^3 mixture)',\n",
    "       'Age (day)',\n",
    "       'Concrete compressive strength(MPa, megapascals) '],\n",
    "      dtype='object')\n",
    "\n",
    "We try to predict Concrete compressivestrength, we pop it off and use it as our target variable y.\n",
    "Our cross_val_score uses neg_mean_absolute_error as scoring so the score is in the units of y.\n",
    "Score 8.4 means off by 8.4 MPa on average.\n",
    "\"\"\"\n",
    "\n",
    "X = df.copy()\n",
    "\n",
    "y = X.pop(df.columns[8])\n",
    "\n",
    "# Train and score baseline model\n",
    "baseline = RandomForestRegressor(criterion=\"absolute_error\", random_state=0)\n",
    "baseline_score = cross_val_score(\n",
    "    baseline, X, y, cv=5, scoring=\"neg_mean_absolute_error\"\n",
    ")\n",
    "baseline_score = -1 * baseline_score.mean()\n",
    "\n",
    "print(f\"MAE Baseline Score: {baseline_score:.4}\")"
   ]
  },
  {
   "cell_type": "code",
   "execution_count": null,
   "id": "ddb0d27b",
   "metadata": {},
   "outputs": [],
   "source": [
    "\"\"\"\n",
    "Here we add synthetic features so a linear model can better learn.\n",
    "We get a score of 8, an improvement over the baseline score of 8.4.\n",
    "The reason is the new ratio features exposed important information to the model.\n",
    "\"\"\"\n",
    "\n",
    "X = df.copy()\n",
    "y = X.pop(df.columns[8])\n",
    "\n",
    "fine_agg = df.columns[6]\n",
    "coarse_agg = df.columns[5]\n",
    "cement = df.columns[0]\n",
    "water = df.columns[3]\n",
    "print(\"\\n\".join([df.columns[8], fine_agg, coarse_agg, cement, water]))\n",
    "# Create synthetic features\n",
    "X[\"FCRatio\"] = X[fine_agg] / X[coarse_agg]\n",
    "X[\"AggCmtRatio\"] = (X[coarse_agg] + X[fine_agg]) / X[cement]\n",
    "X[\"WtrCmtRatio\"] = X[water] / X[cement]\n",
    "\n",
    "# Train and score model on dataset with additional ratio features\n",
    "model = RandomForestRegressor(criterion=\"absolute_error\", random_state=0)\n",
    "score = cross_val_score(\n",
    "    model, X, y, cv=5, scoring=\"neg_mean_absolute_error\"\n",
    ")\n",
    "score = -1 * score.mean()\n",
    "\n",
    "print(f\"MAE Score with Ratio Features: {score:.4}\")"
   ]
  },
  {
   "cell_type": "code",
   "execution_count": null,
   "id": "0b9e118d",
   "metadata": {},
   "outputs": [],
   "source": []
  },
  {
   "cell_type": "code",
   "execution_count": null,
   "id": "db73c69a",
   "metadata": {},
   "outputs": [],
   "source": []
  }
 ],
 "metadata": {
  "kernelspec": {
   "display_name": "default-venv",
   "language": "python",
   "name": "python3"
  },
  "language_info": {
   "codemirror_mode": {
    "name": "ipython",
    "version": 3
   },
   "file_extension": ".py",
   "mimetype": "text/x-python",
   "name": "python",
   "nbconvert_exporter": "python",
   "pygments_lexer": "ipython3",
   "version": "3.13.0"
  }
 },
 "nbformat": 4,
 "nbformat_minor": 5
}
